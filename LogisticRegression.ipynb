{
 "cells": [
  {
   "cell_type": "code",
   "execution_count": 1,
   "id": "08ef7cc4",
   "metadata": {},
   "outputs": [],
   "source": [
    "# import python packages\n",
    "import pandas as pd\n",
    "import numpy as np\n",
    "import matplotlib.pyplot as plt\n",
    "import seaborn as sns\n",
    "from sklearn.preprocessing import RobustScaler\n",
    "from sklearn.manifold import TSNE\n",
    "from sklearn.decomposition import PCA\n",
    "import time\n",
    "import matplotlib.patches as mpatches\n",
    "from sklearn.model_selection import train_test_split\n",
    "from xgboost import XGBClassifier\n",
    "from sklearn.metrics import accuracy_score, confusion_matrix\n",
    "from sklearn.model_selection import train_test_split\n",
    "from sklearn.linear_model import LogisticRegression\n",
    "from sklearn.preprocessing import StandardScaler\n",
    "import itertools\n",
    "import joblib"
   ]
  },
  {
   "cell_type": "code",
   "execution_count": 2,
   "id": "a2dad5e9",
   "metadata": {},
   "outputs": [],
   "source": [
    "# load the data\n",
    "data = pd.read_csv('data.csv')"
   ]
  },
  {
   "cell_type": "code",
   "execution_count": 3,
   "id": "a6ffb815",
   "metadata": {},
   "outputs": [],
   "source": [
    "# load the data\n",
    "new_df = pd.read_csv('new_df.csv')"
   ]
  },
  {
   "cell_type": "code",
   "execution_count": 4,
   "id": "b8d6d9ea",
   "metadata": {},
   "outputs": [],
   "source": [
    "# load the data\n",
    "df_test_over = pd.read_csv('df_test_over.csv')"
   ]
  },
  {
   "cell_type": "code",
   "execution_count": 5,
   "id": "7b0b3612",
   "metadata": {},
   "outputs": [],
   "source": [
    "# function to plot confusion matrix\n",
    "def plot_confusion_matrix(cm, classes,\n",
    "                          title='Confusion matrix',\n",
    "                          cmap=plt.cm.Blues):\n",
    "\n",
    "    print('Confusion matrix')\n",
    "\n",
    "    print(cm)\n",
    "\n",
    "    plt.imshow(cm, interpolation='nearest', cmap=cmap)\n",
    "    plt.title(title, fontsize=14)\n",
    "    plt.colorbar()\n",
    "    tick_marks = np.arange(len(classes))\n",
    "    plt.xticks(tick_marks, classes, rotation=45)\n",
    "    plt.yticks(tick_marks, classes)\n",
    "\n",
    "    fmt = 'd'\n",
    "    thresh = cm.max() / 2.\n",
    "    for i, j in itertools.product(range(cm.shape[0]), range(cm.shape[1])):\n",
    "        plt.text(j, i, format(cm[i, j], fmt),\n",
    "                 horizontalalignment=\"center\",\n",
    "                 color=\"white\" if cm[i, j] > thresh else \"black\")\n",
    "\n",
    "    plt.tight_layout()\n",
    "    plt.ylabel('True label')\n",
    "    plt.xlabel('Predicted label')"
   ]
  },
  {
   "cell_type": "code",
   "execution_count": 6,
   "id": "4e274980",
   "metadata": {},
   "outputs": [],
   "source": [
    "# split the undersampled data into train and test sets\n",
    "X_train_under, X_test_under, y_train_under, y_test_under = train_test_split(new_df.drop('Class', axis=1), new_df['Class'], test_size=0.2, random_state=42)"
   ]
  },
  {
   "cell_type": "code",
   "execution_count": 7,
   "id": "312083f1",
   "metadata": {},
   "outputs": [
    {
     "name": "stdout",
     "output_type": "stream",
     "text": [
      "\n",
      "========= Under Sampled Data Accuracy using Logistic Regression ==============\n",
      "\n",
      "Accuracy Score  0.9421052631578948\n",
      "\n",
      " =====Confusion Matrix ======\n",
      "\n"
     ]
    }
   ],
   "source": [
    "# instantiate and train the model\n",
    "lr_under = LogisticRegression()\n",
    "lr_under.fit(X_train_under,y_train_under)\n",
    "ylr_under_pred = lr_under.predict(X_test_under)\n",
    "\n",
    "acuuracy_score = accuracy_score(ylr_under_pred,y_test_under)\n",
    "\n",
    "print(\"\\n========= Under Sampled Data Accuracy using Logistic Regression ==============\\n\")\n",
    "\n",
    "print(\"Accuracy Score \",acuuracy_score) \n",
    "print (\"\\n =====Confusion Matrix ======\\n\")"
   ]
  },
  {
   "cell_type": "code",
   "execution_count": 8,
   "id": "8432ef03",
   "metadata": {},
   "outputs": [
    {
     "name": "stdout",
     "output_type": "stream",
     "text": [
      "Confusion matrix\n",
      "[[94  7]\n",
      " [ 4 85]]\n",
      "Confusion matrix\n",
      "[[98  0]\n",
      " [ 0 92]]\n"
     ]
    },
    {
     "data": {
      "image/png": "[encoded data removed]",
      "text/plain": [
       "<Figure size 1152x576 with 4 Axes>"
      ]
     },
     "metadata": {
      "needs_background": "light"
     },
     "output_type": "display_data"
    }
   ],
   "source": [
    "# Plot the confusion matrix\n",
    "lr_cm_under = confusion_matrix(ylr_under_pred,y_test_under)\n",
    "actual_cm = confusion_matrix(y_test_under, y_test_under)\n",
    "labels = ['No Fraud', 'Fraud']\n",
    "\n",
    "fig = plt.figure(figsize=(16,8))\n",
    "\n",
    "fig.add_subplot(221)\n",
    "plot_confusion_matrix(lr_cm_under, labels, title=\"Undersample Data \\n Confusion Matrix\", cmap=plt.cm.Oranges)\n",
    "\n",
    "fig.add_subplot(222)\n",
    "plot_confusion_matrix(actual_cm, labels, title=\"Confusion Matrix \\n (with 100% accuracy)\", cmap=plt.cm.Greens)"
   ]
  },
  {
   "cell_type": "markdown",
   "id": "3bd849ce",
   "metadata": {},
   "source": [
    "### The plot for LogisticRegression UnderSampled Data shows good results but still has some false predictions."
   ]
  },
  {
   "cell_type": "code",
   "execution_count": 9,
   "id": "389cc179",
   "metadata": {},
   "outputs": [],
   "source": [
    "# split the oversample dataset.\n",
    "y_over = df_test_over['Class']\n",
    "X_over = df_test_over.drop('Class', axis = 1)\n",
    "\n",
    "X_train_over, X_test_over, y_train_over, y_test_over = train_test_split(X_over,y_over, test_size = 0.20, random_state = 42)"
   ]
  },
  {
   "cell_type": "code",
   "execution_count": 10,
   "id": "15e73a84",
   "metadata": {},
   "outputs": [
    {
     "name": "stdout",
     "output_type": "stream",
     "text": [
      "\n",
      "========= Over Sampled Data Accuracy using Logistic Regression ==============\n",
      "\n",
      "Accuracy Score  0.9507764275539454\n",
      "\n",
      " =====Confusion Matrix ======\n",
      "\n"
     ]
    }
   ],
   "source": [
    "# instantiate and train the model\n",
    "lr_over = LogisticRegression()\n",
    "lr_over.fit(X_train_over,y_train_over)\n",
    "ylr_over_pred = lr_over.predict(X_test_over)\n",
    "\n",
    "print(\"\\n========= Over Sampled Data Accuracy using Logistic Regression ==============\\n\")\n",
    "\n",
    "print(\"Accuracy Score \",accuracy_score(ylr_over_pred,y_test_over))\n",
    "print (\"\\n =====Confusion Matrix ======\\n\")"
   ]
  },
  {
   "cell_type": "code",
   "execution_count": 11,
   "id": "08a3ed56",
   "metadata": {},
   "outputs": [
    {
     "name": "stdout",
     "output_type": "stream",
     "text": [
      "Confusion matrix\n",
      "[[55529  4381]\n",
      " [ 1217 52599]]\n",
      "Confusion matrix\n",
      "[[56746     0]\n",
      " [    0 56980]]\n"
     ]
    },
    {
     "data": {
      "image/png": "[encoded data removed]",
      "text/plain": [
       "<Figure size 1152x576 with 4 Axes>"
      ]
     },
     "metadata": {
      "needs_background": "light"
     },
     "output_type": "display_data"
    }
   ],
   "source": [
    "# Plot the confusion matrix\n",
    "lr_cm_over = confusion_matrix(ylr_over_pred, y_test_over)\n",
    "actual_cm = confusion_matrix(y_test_over, y_test_over)\n",
    "labels = ['No Fraud', 'Fraud']\n",
    "\n",
    "fig = plt.figure(figsize=(16,8))\n",
    "\n",
    "fig.add_subplot(221)\n",
    "plot_confusion_matrix(lr_cm_over, labels, title=\"Oversample Data \\n Confusion Matrix\", cmap=plt.cm.Oranges)\n",
    "\n",
    "fig.add_subplot(222)\n",
    "plot_confusion_matrix(actual_cm, labels, title=\"Confusion Matrix \\n (with 100% accuracy)\", cmap=plt.cm.Greens)"
   ]
  },
  {
   "cell_type": "markdown",
   "id": "e073ee93",
   "metadata": {},
   "source": [
    "### The plot for LogisticRegression OverSampled Data shows some variance because there are 1000-5000 data points that it could not classify properly."
   ]
  },
  {
   "cell_type": "code",
   "execution_count": 12,
   "id": "2f0bd545",
   "metadata": {},
   "outputs": [
    {
     "data": {
      "text/plain": [
       "['lr_under.joblib']"
      ]
     },
     "execution_count": 12,
     "metadata": {},
     "output_type": "execute_result"
    }
   ],
   "source": [
    "# Model saved\n",
    "filename = \"lr_under.joblib\"\n",
    "joblib.dump(lr_under, filename)"
   ]
  },
  {
   "cell_type": "code",
   "execution_count": 13,
   "id": "e68bbed7",
   "metadata": {},
   "outputs": [
    {
     "data": {
      "text/plain": [
       "['lr_over.joblib']"
      ]
     },
     "execution_count": 13,
     "metadata": {},
     "output_type": "execute_result"
    }
   ],
   "source": [
    "# Model saved\n",
    "filename = \"lr_over.joblib\"\n",
    "joblib.dump(lr_over, filename)"
   ]
  }
 ],
 "metadata": {
  "kernelspec": {
   "display_name": "Python 3 (ipykernel)",
   "language": "python",
   "name": "python3"
  },
  "language_info": {
   "codemirror_mode": {
    "name": "ipython",
    "version": 3
   },
   "file_extension": ".py",
   "mimetype": "text/x-python",
   "name": "python",
   "nbconvert_exporter": "python",
   "pygments_lexer": "ipython3",
   "version": "3.8.10"
  }
 },
 "nbformat": 4,
 "nbformat_minor": 5
}
