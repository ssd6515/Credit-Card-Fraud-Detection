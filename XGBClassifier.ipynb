{
 "cells": [
  {
   "cell_type": "code",
   "execution_count": 12,
   "id": "4d233147",
   "metadata": {},
   "outputs": [],
   "source": [
    "import pandas as pd\n",
    "import numpy as np\n",
    "import matplotlib.pyplot as plt\n",
    "import seaborn as sns\n",
    "from sklearn.preprocessing import RobustScaler\n",
    "from sklearn.manifold import TSNE\n",
    "from sklearn.decomposition import PCA\n",
    "import time\n",
    "import matplotlib.patches as mpatches\n",
    "from sklearn.model_selection import train_test_split\n",
    "from xgboost import XGBClassifier\n",
    "from sklearn.metrics import accuracy_score, confusion_matrix\n",
    "from sklearn.model_selection import train_test_split\n",
    "from sklearn.linear_model import LogisticRegression\n",
    "from sklearn.preprocessing import StandardScaler\n",
    "import itertools\n",
    "import joblib"
   ]
  },
  {
   "cell_type": "code",
   "execution_count": 2,
   "id": "130515f6",
   "metadata": {},
   "outputs": [],
   "source": [
    "# load the data\n",
    "data = pd.read_csv('data.csv')"
   ]
  },
  {
   "cell_type": "code",
   "execution_count": 3,
   "id": "ff245c94",
   "metadata": {},
   "outputs": [],
   "source": [
    "# load the data\n",
    "new_df = pd.read_csv('new_df.csv')"
   ]
  },
  {
   "cell_type": "code",
   "execution_count": 4,
   "id": "b82ed4d6",
   "metadata": {},
   "outputs": [],
   "source": [
    "# load the data\n",
    "df_test_over = pd.read_csv('df_test_over.csv')"
   ]
  },
  {
   "cell_type": "code",
   "execution_count": 5,
   "id": "c09e722c",
   "metadata": {},
   "outputs": [],
   "source": [
    "# function to plot confusion matrix\n",
    "def plot_confusion_matrix(cm, classes,\n",
    "                          title='Confusion matrix',\n",
    "                          cmap=plt.cm.Blues):\n",
    "\n",
    "    print('Confusion matrix')\n",
    "\n",
    "    print(cm)\n",
    "\n",
    "    plt.imshow(cm, interpolation='nearest', cmap=cmap)\n",
    "    plt.title(title, fontsize=14)\n",
    "    plt.colorbar()\n",
    "    tick_marks = np.arange(len(classes))\n",
    "    plt.xticks(tick_marks, classes, rotation=45)\n",
    "    plt.yticks(tick_marks, classes)\n",
    "\n",
    "    fmt = 'd'\n",
    "    thresh = cm.max() / 2.\n",
    "    for i, j in itertools.product(range(cm.shape[0]), range(cm.shape[1])):\n",
    "        plt.text(j, i, format(cm[i, j], fmt),\n",
    "                 horizontalalignment=\"center\",\n",
    "                 color=\"white\" if cm[i, j] > thresh else \"black\")\n",
    "\n",
    "    plt.tight_layout()\n",
    "    plt.ylabel('True label')\n",
    "    plt.xlabel('Predicted label')"
   ]
  },
  {
   "cell_type": "code",
   "execution_count": 6,
   "id": "0eed3051",
   "metadata": {},
   "outputs": [],
   "source": [
    "# split the undersampled data into train and test sets\n",
    "X_train_under, X_test_under, y_train_under, y_test_under = train_test_split(new_df.drop('Class', axis=1), new_df['Class'], test_size=0.2, random_state=42)"
   ]
  },
  {
   "cell_type": "code",
   "execution_count": 7,
   "id": "8c64a6c8",
   "metadata": {},
   "outputs": [
    {
     "name": "stdout",
     "output_type": "stream",
     "text": [
      "\n",
      "========= Under Sampled Data Accuracy using XGBClassifier==============\n",
      "\n",
      "Accuracy Score  0.9473684210526315\n",
      "\n",
      " =====Confusion Matrix ======\n",
      "\n"
     ]
    }
   ],
   "source": [
    "# instantiate and train the model\n",
    "model_under = XGBClassifier()\n",
    "model_under.fit(X_train_under,y_train_under)\n",
    "y_under_pred = model_under.predict(X_test_under)\n",
    "\n",
    "print(\"\\n========= Under Sampled Data Accuracy using XGBClassifier==============\\n\")\n",
    "print(\"Accuracy Score \", accuracy_score(y_under_pred,y_test_under)) \n",
    "print (\"\\n =====Confusion Matrix ======\\n\")"
   ]
  },
  {
   "cell_type": "code",
   "execution_count": 8,
   "id": "edc5cf30",
   "metadata": {},
   "outputs": [
    {
     "name": "stdout",
     "output_type": "stream",
     "text": [
      "Confusion matrix\n",
      "[[93  5]\n",
      " [ 5 87]]\n",
      "Confusion matrix\n",
      "[[98  0]\n",
      " [ 0 92]]\n"
     ]
    },
    {
     "data": {
      "image/png": "[encoded data removed]",
      "text/plain": [
       "<Figure size 1152x576 with 4 Axes>"
      ]
     },
     "metadata": {
      "needs_background": "light"
     },
     "output_type": "display_data"
    }
   ],
   "source": [
    "# Plot the confusion matrix\n",
    "xgb_cm_under = confusion_matrix(y_under_pred,y_test_under)\n",
    "actual_cm = confusion_matrix(y_test_under, y_test_under)\n",
    "labels = ['No Fraud', 'Fraud']\n",
    "\n",
    "fig = plt.figure(figsize=(16,8))\n",
    "\n",
    "fig.add_subplot(221)\n",
    "plot_confusion_matrix(xgb_cm_under, labels, title=\"Undersample Data \\n Confusion Matrix\", cmap=plt.cm.Oranges)\n",
    "\n",
    "fig.add_subplot(222)\n",
    "plot_confusion_matrix(actual_cm, labels, title=\"Confusion Matrix \\n (with 100% accuracy)\", cmap=plt.cm.Greens)"
   ]
  },
  {
   "cell_type": "markdown",
   "id": "75cf3719",
   "metadata": {},
   "source": [
    "### The plot for XGB Under Sampled Data shows good results with 0.94 accuracy score."
   ]
  },
  {
   "cell_type": "code",
   "execution_count": 9,
   "id": "98d8453f",
   "metadata": {},
   "outputs": [
    {
     "name": "stdout",
     "output_type": "stream",
     "text": [
      "\n",
      "========= Over Sampled Data Accuracy using using XGBClassifier ==============\n",
      "\n",
      "Accuracy Score  0.9999296554877513\n",
      "\n",
      " =====Confusion Matrix ======\n",
      "\n"
     ]
    }
   ],
   "source": [
    "# split the oversample dataset.\n",
    "y_over = df_test_over['Class']\n",
    "X_over = df_test_over.drop('Class', axis = 1)\n",
    "\n",
    "X_train_over, X_test_over, y_train_over, y_test_over = train_test_split(X_over,y_over, test_size = 0.20, random_state = 42)\n",
    "# instantiate and train the model\n",
    "model_over = XGBClassifier()\n",
    "model_over.fit(X_train_over,y_train_over)\n",
    "y_over_pred = model_over.predict(X_test_over)\n",
    "\n",
    "print(\"\\n========= Over Sampled Data Accuracy using using XGBClassifier ==============\\n\")\n",
    "\n",
    "print(\"Accuracy Score \",accuracy_score(y_over_pred,y_test_over))\n",
    "print (\"\\n =====Confusion Matrix ======\\n\")\n"
   ]
  },
  {
   "cell_type": "code",
   "execution_count": 10,
   "id": "8ad16aff",
   "metadata": {},
   "outputs": [
    {
     "name": "stdout",
     "output_type": "stream",
     "text": [
      "Confusion matrix\n",
      "[[56738     0]\n",
      " [    8 56980]]\n",
      "Confusion matrix\n",
      "[[56746     0]\n",
      " [    0 56980]]\n"
     ]
    },
    {
     "data": {
      "image/png": "[encoded data removed]",
      "text/plain": [
       "<Figure size 1152x576 with 4 Axes>"
      ]
     },
     "metadata": {
      "needs_background": "light"
     },
     "output_type": "display_data"
    }
   ],
   "source": [
    "# Plot the confusion matrix\n",
    "xgb_cm_over = confusion_matrix(y_over_pred, y_test_over)\n",
    "actual_cm = confusion_matrix(y_test_over, y_test_over)\n",
    "labels = ['No Fraud', 'Fraud']\n",
    "\n",
    "fig = plt.figure(figsize=(16,8))\n",
    "\n",
    "fig.add_subplot(221)\n",
    "plot_confusion_matrix(xgb_cm_over, labels, title=\"Oversample Data \\n Confusion Matrix\", cmap=plt.cm.Oranges)\n",
    "\n",
    "fig.add_subplot(222)\n",
    "plot_confusion_matrix(actual_cm, labels, title=\"Confusion Matrix \\n (with 100% accuracy)\", cmap=plt.cm.Greens)"
   ]
  },
  {
   "cell_type": "markdown",
   "id": "7c874e1b",
   "metadata": {},
   "source": [
    "### The plot for XGB OverSampled Data shows perfect results with accuracy score of 1.0"
   ]
  },
  {
   "cell_type": "code",
   "execution_count": 13,
   "id": "f5ea469d",
   "metadata": {},
   "outputs": [
    {
     "data": {
      "text/plain": [
       "['model_under.joblib']"
      ]
     },
     "execution_count": 13,
     "metadata": {},
     "output_type": "execute_result"
    }
   ],
   "source": [
    "# Model saved\n",
    "filename = \"model_under.joblib\"\n",
    "joblib.dump(model_under, filename)"
   ]
  },
  {
   "cell_type": "code",
   "execution_count": 14,
   "id": "eb6565c4",
   "metadata": {},
   "outputs": [
    {
     "data": {
      "text/plain": [
       "['model_over.joblib']"
      ]
     },
     "execution_count": 14,
     "metadata": {},
     "output_type": "execute_result"
    }
   ],
   "source": [
    "# Model saved\n",
    "filename = \"model_over.joblib\"\n",
    "joblib.dump(model_over, filename)"
   ]
  }
 ],
 "metadata": {
  "kernelspec": {
   "display_name": "Python 3 (ipykernel)",
   "language": "python",
   "name": "python3"
  },
  "language_info": {
   "codemirror_mode": {
    "name": "ipython",
    "version": 3
   },
   "file_extension": ".py",
   "mimetype": "text/x-python",
   "name": "python",
   "nbconvert_exporter": "python",
   "pygments_lexer": "ipython3",
   "version": "3.8.10"
  }
 },
 "nbformat": 4,
 "nbformat_minor": 5
}
